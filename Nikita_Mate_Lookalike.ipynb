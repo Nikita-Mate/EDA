{
 "cells": [
  {
   "cell_type": "markdown",
   "metadata": {},
   "source": [
    "#### Import libraries"
   ]
  },
  {
   "cell_type": "code",
   "execution_count": 28,
   "metadata": {},
   "outputs": [],
   "source": [
    "import pandas as pd\n",
    "from sklearn.metrics.pairwise import cosine_similarity\n",
    "from sklearn.preprocessing import StandardScaler"
   ]
  },
  {
   "cell_type": "markdown",
   "metadata": {},
   "source": [
    "#### Load data"
   ]
  },
  {
   "cell_type": "code",
   "execution_count": 37,
   "metadata": {},
   "outputs": [],
   "source": [
    "merged_data = pd.read_csv(\"Final_clean_data.csv\")"
   ]
  },
  {
   "cell_type": "markdown",
   "metadata": {},
   "source": [
    "#### Feature engineering\n",
    "##### Aggregate customer transaction behavior"
   ]
  },
  {
   "cell_type": "code",
   "execution_count": 38,
   "metadata": {},
   "outputs": [],
   "source": [
    "customer_features = merged_data.groupby(\"CustomerID\").agg({\n",
    "    \"TotalValue\": \"sum\",  # Total spend\n",
    "    \"Quantity\": \"sum\",    # Total quantity purchased\n",
    "    \"ProductID\": \"nunique\",  # Number of unique products purchased\n",
    "    \"Category\": \"nunique\"  # Number of unique categories\n",
    "}).reset_index()"
   ]
  },
  {
   "cell_type": "markdown",
   "metadata": {},
   "source": [
    "\n",
    "#### Merge with customer profile information"
   ]
  },
  {
   "cell_type": "code",
   "execution_count": 39,
   "metadata": {},
   "outputs": [],
   "source": [
    "customer_profiles = pd.read_csv(\"Customers.csv\")\n",
    "customer_features = customer_features.merge(customer_profiles, on=\"CustomerID\", how=\"left\")\n"
   ]
  },
  {
   "cell_type": "code",
   "execution_count": 40,
   "metadata": {},
   "outputs": [
    {
     "name": "stdout",
     "output_type": "stream",
     "text": [
      "<class 'pandas.core.frame.DataFrame'>\n",
      "Int64Index: 199 entries, 0 to 198\n",
      "Data columns (total 8 columns):\n",
      " #   Column        Non-Null Count  Dtype  \n",
      "---  ------        --------------  -----  \n",
      " 0   CustomerID    199 non-null    object \n",
      " 1   TotalValue    199 non-null    float64\n",
      " 2   Quantity      199 non-null    int64  \n",
      " 3   ProductID     199 non-null    int64  \n",
      " 4   Category      199 non-null    int64  \n",
      " 5   CustomerName  199 non-null    object \n",
      " 6   Region        199 non-null    object \n",
      " 7   SignupDate    199 non-null    object \n",
      "dtypes: float64(1), int64(3), object(4)\n",
      "memory usage: 14.0+ KB\n"
     ]
    }
   ],
   "source": [
    "customer_features.info()"
   ]
  },
  {
   "cell_type": "markdown",
   "metadata": {},
   "source": [
    "#### Encode categorical features "
   ]
  },
  {
   "cell_type": "code",
   "execution_count": 41,
   "metadata": {},
   "outputs": [],
   "source": [
    "customer_features = pd.get_dummies(customer_features, columns=[\"Region\"], drop_first=True)\n"
   ]
  },
  {
   "cell_type": "markdown",
   "metadata": {},
   "source": [
    "#### Normalize numerical features"
   ]
  },
  {
   "cell_type": "code",
   "execution_count": 43,
   "metadata": {},
   "outputs": [],
   "source": [
    "scaler = StandardScaler()\n",
    "numerical_features = [\"TotalValue\", \"Quantity\", \"ProductID\", \"Category\"]\n",
    "customer_features[numerical_features] = scaler.fit_transform(customer_features[numerical_features])\n"
   ]
  },
  {
   "cell_type": "markdown",
   "metadata": {},
   "source": [
    "\n",
    "#### Compute similarity scores"
   ]
  },
  {
   "cell_type": "code",
   "execution_count": 44,
   "metadata": {},
   "outputs": [],
   "source": [
    "similarity_matrix = cosine_similarity(customer_features[numerical_features])\n"
   ]
  },
  {
   "cell_type": "markdown",
   "metadata": {},
   "source": [
    "#### Build lookalike recommendations for first 20 customers"
   ]
  },
  {
   "cell_type": "code",
   "execution_count": 45,
   "metadata": {},
   "outputs": [],
   "source": [
    "lookalikes = {}\n",
    "for idx, customer_id in enumerate(customer_features[\"CustomerID\"][:20]):\n",
    "    similar_customers = sorted(\n",
    "        list(enumerate(similarity_matrix[idx])),\n",
    "        key=lambda x: x[1], reverse=True\n",
    "    )[1:4]  # Top 3 excluding itself\n",
    "    \n",
    "    lookalikes[customer_id] = [\n",
    "        (customer_features[\"CustomerID\"].iloc[sim[0]], sim[1])\n",
    "        for sim in similar_customers\n",
    "    ]"
   ]
  },
  {
   "cell_type": "markdown",
   "metadata": {},
   "source": [
    "#### Save lookalikes to CSV"
   ]
  },
  {
   "cell_type": "code",
   "execution_count": 46,
   "metadata": {},
   "outputs": [],
   "source": [
    "\n",
    "lookalikes_df = pd.DataFrame.from_dict(lookalikes, orient=\"index\")\n",
    "lookalikes_df.to_csv(\"Nikita_Mate_Lookalike.csv\", header=False)\n"
   ]
  },
  {
   "cell_type": "code",
   "execution_count": 47,
   "metadata": {},
   "outputs": [
    {
     "data": {
      "text/html": [
       "<div>\n",
       "<style scoped>\n",
       "    .dataframe tbody tr th:only-of-type {\n",
       "        vertical-align: middle;\n",
       "    }\n",
       "\n",
       "    .dataframe tbody tr th {\n",
       "        vertical-align: top;\n",
       "    }\n",
       "\n",
       "    .dataframe thead th {\n",
       "        text-align: right;\n",
       "    }\n",
       "</style>\n",
       "<table border=\"1\" class=\"dataframe\">\n",
       "  <thead>\n",
       "    <tr style=\"text-align: right;\">\n",
       "      <th></th>\n",
       "      <th>0</th>\n",
       "      <th>1</th>\n",
       "      <th>2</th>\n",
       "    </tr>\n",
       "  </thead>\n",
       "  <tbody>\n",
       "    <tr>\n",
       "      <th>C0001</th>\n",
       "      <td>(C0056, 0.937994040227549)</td>\n",
       "      <td>(C0164, 0.9307627671474238)</td>\n",
       "      <td>(C0116, 0.9170817136676287)</td>\n",
       "    </tr>\n",
       "    <tr>\n",
       "      <th>C0002</th>\n",
       "      <td>(C0199, 0.9924781135690828)</td>\n",
       "      <td>(C0142, 0.9880872862686263)</td>\n",
       "      <td>(C0010, 0.9711735190184863)</td>\n",
       "    </tr>\n",
       "    <tr>\n",
       "      <th>C0003</th>\n",
       "      <td>(C0027, 0.8715087905460797)</td>\n",
       "      <td>(C0166, 0.7558069799219821)</td>\n",
       "      <td>(C0029, 0.678853897054224)</td>\n",
       "    </tr>\n",
       "    <tr>\n",
       "      <th>C0004</th>\n",
       "      <td>(C0124, 0.9885565212761119)</td>\n",
       "      <td>(C0195, 0.9879542415506737)</td>\n",
       "      <td>(C0156, 0.9879375303357136)</td>\n",
       "    </tr>\n",
       "    <tr>\n",
       "      <th>C0005</th>\n",
       "      <td>(C0131, 0.999692805150406)</td>\n",
       "      <td>(C0058, 0.9996223015540427)</td>\n",
       "      <td>(C0097, 0.9987487502678624)</td>\n",
       "    </tr>\n",
       "    <tr>\n",
       "      <th>C0006</th>\n",
       "      <td>(C0079, 0.9998807121946304)</td>\n",
       "      <td>(C0196, 0.9861922273326098)</td>\n",
       "      <td>(C0026, 0.8081475746461997)</td>\n",
       "    </tr>\n",
       "    <tr>\n",
       "      <th>C0007</th>\n",
       "      <td>(C0078, 0.9959032019158693)</td>\n",
       "      <td>(C0080, 0.9955154812840622)</td>\n",
       "      <td>(C0020, 0.9943060609259584)</td>\n",
       "    </tr>\n",
       "    <tr>\n",
       "      <th>C0008</th>\n",
       "      <td>(C0162, 0.9581866194529632)</td>\n",
       "      <td>(C0017, 0.9524675930003565)</td>\n",
       "      <td>(C0093, 0.9387553783693624)</td>\n",
       "    </tr>\n",
       "    <tr>\n",
       "      <th>C0009</th>\n",
       "      <td>(C0083, 0.9962580918556325)</td>\n",
       "      <td>(C0198, 0.9859642161840871)</td>\n",
       "      <td>(C0015, 0.9783121781932388)</td>\n",
       "    </tr>\n",
       "    <tr>\n",
       "      <th>C0010</th>\n",
       "      <td>(C0142, 0.9752861447632982)</td>\n",
       "      <td>(C0002, 0.9711735190184863)</td>\n",
       "      <td>(C0199, 0.9348224643446227)</td>\n",
       "    </tr>\n",
       "    <tr>\n",
       "      <th>C0011</th>\n",
       "      <td>(C0100, 0.9850794387921914)</td>\n",
       "      <td>(C0170, 0.9695694345941521)</td>\n",
       "      <td>(C0022, 0.9643172957745398)</td>\n",
       "    </tr>\n",
       "    <tr>\n",
       "      <th>C0012</th>\n",
       "      <td>(C0087, 0.9940483552357308)</td>\n",
       "      <td>(C0101, 0.9820808291615687)</td>\n",
       "      <td>(C0105, 0.9713279721808666)</td>\n",
       "    </tr>\n",
       "    <tr>\n",
       "      <th>C0013</th>\n",
       "      <td>(C0099, 0.995979981820588)</td>\n",
       "      <td>(C0105, 0.9954386848980394)</td>\n",
       "      <td>(C0155, 0.992096818239113)</td>\n",
       "    </tr>\n",
       "    <tr>\n",
       "      <th>C0014</th>\n",
       "      <td>(C0033, 0.9997058844428575)</td>\n",
       "      <td>(C0060, 0.9995288402599388)</td>\n",
       "      <td>(C0150, 0.9993801312689982)</td>\n",
       "    </tr>\n",
       "    <tr>\n",
       "      <th>C0015</th>\n",
       "      <td>(C0123, 0.9989045936107508)</td>\n",
       "      <td>(C0198, 0.9987419434573003)</td>\n",
       "      <td>(C0095, 0.998671317338153)</td>\n",
       "    </tr>\n",
       "    <tr>\n",
       "      <th>C0016</th>\n",
       "      <td>(C0152, 0.8636030062313497)</td>\n",
       "      <td>(C0107, 0.8601173027969059)</td>\n",
       "      <td>(C0183, 0.8322389207659221)</td>\n",
       "    </tr>\n",
       "    <tr>\n",
       "      <th>C0017</th>\n",
       "      <td>(C0162, 0.9981652177483873)</td>\n",
       "      <td>(C0093, 0.9836596337090957)</td>\n",
       "      <td>(C0113, 0.9793135286829135)</td>\n",
       "    </tr>\n",
       "    <tr>\n",
       "      <th>C0018</th>\n",
       "      <td>(C0165, 0.9803074739261785)</td>\n",
       "      <td>(C0148, 0.9788666685322018)</td>\n",
       "      <td>(C0149, 0.9638759696378909)</td>\n",
       "    </tr>\n",
       "    <tr>\n",
       "      <th>C0019</th>\n",
       "      <td>(C0069, 0.874969547644054)</td>\n",
       "      <td>(C0038, 0.87412913087016)</td>\n",
       "      <td>(C0191, 0.8707607192703304)</td>\n",
       "    </tr>\n",
       "    <tr>\n",
       "      <th>C0020</th>\n",
       "      <td>(C0080, 0.9999221384871727)</td>\n",
       "      <td>(C0110, 0.9990963234405529)</td>\n",
       "      <td>(C0078, 0.998988277052761)</td>\n",
       "    </tr>\n",
       "  </tbody>\n",
       "</table>\n",
       "</div>"
      ],
      "text/plain": [
       "                                 0                            1  \\\n",
       "C0001   (C0056, 0.937994040227549)  (C0164, 0.9307627671474238)   \n",
       "C0002  (C0199, 0.9924781135690828)  (C0142, 0.9880872862686263)   \n",
       "C0003  (C0027, 0.8715087905460797)  (C0166, 0.7558069799219821)   \n",
       "C0004  (C0124, 0.9885565212761119)  (C0195, 0.9879542415506737)   \n",
       "C0005   (C0131, 0.999692805150406)  (C0058, 0.9996223015540427)   \n",
       "C0006  (C0079, 0.9998807121946304)  (C0196, 0.9861922273326098)   \n",
       "C0007  (C0078, 0.9959032019158693)  (C0080, 0.9955154812840622)   \n",
       "C0008  (C0162, 0.9581866194529632)  (C0017, 0.9524675930003565)   \n",
       "C0009  (C0083, 0.9962580918556325)  (C0198, 0.9859642161840871)   \n",
       "C0010  (C0142, 0.9752861447632982)  (C0002, 0.9711735190184863)   \n",
       "C0011  (C0100, 0.9850794387921914)  (C0170, 0.9695694345941521)   \n",
       "C0012  (C0087, 0.9940483552357308)  (C0101, 0.9820808291615687)   \n",
       "C0013   (C0099, 0.995979981820588)  (C0105, 0.9954386848980394)   \n",
       "C0014  (C0033, 0.9997058844428575)  (C0060, 0.9995288402599388)   \n",
       "C0015  (C0123, 0.9989045936107508)  (C0198, 0.9987419434573003)   \n",
       "C0016  (C0152, 0.8636030062313497)  (C0107, 0.8601173027969059)   \n",
       "C0017  (C0162, 0.9981652177483873)  (C0093, 0.9836596337090957)   \n",
       "C0018  (C0165, 0.9803074739261785)  (C0148, 0.9788666685322018)   \n",
       "C0019   (C0069, 0.874969547644054)    (C0038, 0.87412913087016)   \n",
       "C0020  (C0080, 0.9999221384871727)  (C0110, 0.9990963234405529)   \n",
       "\n",
       "                                 2  \n",
       "C0001  (C0116, 0.9170817136676287)  \n",
       "C0002  (C0010, 0.9711735190184863)  \n",
       "C0003   (C0029, 0.678853897054224)  \n",
       "C0004  (C0156, 0.9879375303357136)  \n",
       "C0005  (C0097, 0.9987487502678624)  \n",
       "C0006  (C0026, 0.8081475746461997)  \n",
       "C0007  (C0020, 0.9943060609259584)  \n",
       "C0008  (C0093, 0.9387553783693624)  \n",
       "C0009  (C0015, 0.9783121781932388)  \n",
       "C0010  (C0199, 0.9348224643446227)  \n",
       "C0011  (C0022, 0.9643172957745398)  \n",
       "C0012  (C0105, 0.9713279721808666)  \n",
       "C0013   (C0155, 0.992096818239113)  \n",
       "C0014  (C0150, 0.9993801312689982)  \n",
       "C0015   (C0095, 0.998671317338153)  \n",
       "C0016  (C0183, 0.8322389207659221)  \n",
       "C0017  (C0113, 0.9793135286829135)  \n",
       "C0018  (C0149, 0.9638759696378909)  \n",
       "C0019  (C0191, 0.8707607192703304)  \n",
       "C0020   (C0078, 0.998988277052761)  "
      ]
     },
     "execution_count": 47,
     "metadata": {},
     "output_type": "execute_result"
    }
   ],
   "source": [
    "lookalikes_df"
   ]
  },
  {
   "cell_type": "code",
   "execution_count": null,
   "metadata": {},
   "outputs": [],
   "source": []
  }
 ],
 "metadata": {
  "kernelspec": {
   "display_name": "base",
   "language": "python",
   "name": "python3"
  },
  "language_info": {
   "codemirror_mode": {
    "name": "ipython",
    "version": 3
   },
   "file_extension": ".py",
   "mimetype": "text/x-python",
   "name": "python",
   "nbconvert_exporter": "python",
   "pygments_lexer": "ipython3",
   "version": "3.11.4"
  }
 },
 "nbformat": 4,
 "nbformat_minor": 2
}
